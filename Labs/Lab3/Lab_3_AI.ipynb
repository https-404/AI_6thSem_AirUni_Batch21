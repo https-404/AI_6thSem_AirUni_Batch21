{
  "nbformat": 4,
  "nbformat_minor": 0,
  "metadata": {
    "colab": {
      "provenance": []
    },
    "kernelspec": {
      "name": "python3",
      "display_name": "Python 3"
    },
    "language_info": {
      "name": "python"
    }
  },
  "cells": [
    {
      "cell_type": "markdown",
      "source": [
        "# AI LAB 3: 210894 - Areesh Ali\n",
        "\n",
        "\n",
        "1.   List\n",
        "2.   Dictionaries\n",
        "3.   Plot/Data Visualization\n",
        "\n",
        "\n"
      ],
      "metadata": {
        "id": "J8gVOl7tV8G8"
      }
    },
    {
      "cell_type": "markdown",
      "source": [
        "**Lab 2_A Tasks**"
      ],
      "metadata": {
        "id": "hPocq4MVWb6i"
      }
    },
    {
      "cell_type": "code",
      "source": [
        "#task 1\n",
        "def generate_fibonacci(n):\n",
        "\n",
        "    a, b = 1, 1\n",
        "    fibonacci_series = [a, b]\n",
        "\n",
        "\n",
        "    while b < n:\n",
        "        a, b = b, a + b\n",
        "        if b <= n:\n",
        "            fibonacci_series.append(b)\n",
        "\n",
        "    return fibonacci_series\n",
        "\n",
        "\n",
        "n = int(input(\"Enter the number 'n' to generate Fibonacci series up to n: \"))\n",
        "\n",
        "\n",
        "fibonacci_series = generate_fibonacci(n)\n",
        "print(\"Fibonacci series up to\", n, \":\", fibonacci_series)\n"
      ],
      "metadata": {
        "colab": {
          "base_uri": "https://localhost:8080/"
        },
        "id": "t4SLCAB1Wisy",
        "outputId": "0c472e03-51bd-4dce-9bed-ff44de42ab11"
      },
      "execution_count": null,
      "outputs": [
        {
          "output_type": "stream",
          "name": "stdout",
          "text": [
            "Enter the number 'n' to generate Fibonacci series up to n: 5\n",
            "Fibonacci series up to 5 : [1, 1, 2, 3, 5]\n"
          ]
        }
      ]
    },
    {
      "cell_type": "code",
      "source": [
        "#task2\n",
        "VOWELS = ('a', 'e', 'i', 'o', 'u')\n",
        "\n",
        "def convert_to_pig_latin(word):\n",
        "    if word[0].lower() in VOWELS:\n",
        "        return word + 'hay'\n",
        "    else:\n",
        "        return word[1:] + word[0] + 'ay'\n",
        "\n",
        "def main():\n",
        "    english_text = input(\"Enter some English text (words separated by spaces): \")\n",
        "    words = english_text.split()\n",
        "\n",
        "    pig_latin_words = []\n",
        "\n",
        "    for word in words:\n",
        "\n",
        "        if word.isalpha():\n",
        "            pig_latin_words.append(convert_to_pig_latin(word))\n",
        "        else:\n",
        "\n",
        "            pig_latin_words.append(word)\n",
        "\n",
        "    pig_latin_text = ' '.join(pig_latin_words)\n",
        "    print(\"Pig-Latin text:\", pig_latin_text)\n",
        "\n",
        "if __name__ == \"__main__\":\n",
        "    main()\n"
      ],
      "metadata": {
        "colab": {
          "base_uri": "https://localhost:8080/"
        },
        "id": "LbP5xx5mdUvE",
        "outputId": "a9a5b488-d547-485c-fffb-b0e9279ccc55"
      },
      "execution_count": null,
      "outputs": [
        {
          "output_type": "stream",
          "name": "stdout",
          "text": [
            "Enter some English text (words separated by spaces): my name is areesh\n",
            "Pig-Latin text: ymay amenay ishay areeshhay\n"
          ]
        }
      ]
    },
    {
      "cell_type": "markdown",
      "source": [
        "**Lab 2 Task 2_B**"
      ],
      "metadata": {
        "id": "on60Kf0egpYE"
      }
    },
    {
      "cell_type": "markdown",
      "source": [
        "**Task1**\n",
        "Write a Pandas/Numpy program to find the index of the first occurrence of the smallest and\n",
        "largest value of a given series\n"
      ],
      "metadata": {
        "id": "TxciIE4xmF5r"
      }
    },
    {
      "cell_type": "code",
      "source": [
        "import numpy as np\n",
        "import pandas as pd\n",
        "\n",
        "def min_max(data):\n",
        "  print(\"Series:\")\n",
        "  print(data)\n",
        "  print(\"First Index of Smallest Value: \",data.idxmin())\n",
        "  print(\"First Index of Maximum Value: \",data.idxmax())\n",
        "\n",
        "\n",
        "data = pd.Series([3,9,2,6,12,65,0,1,5])\n",
        "min_max(data)\n",
        "\n",
        "\n",
        "\n"
      ],
      "metadata": {
        "colab": {
          "base_uri": "https://localhost:8080/"
        },
        "id": "1Q76t2tLmNB_",
        "outputId": "6dbb76c0-15f1-440a-99cc-5679c239b406"
      },
      "execution_count": null,
      "outputs": [
        {
          "output_type": "stream",
          "name": "stdout",
          "text": [
            "Series:\n",
            "0     3\n",
            "1     9\n",
            "2     2\n",
            "3     6\n",
            "4    12\n",
            "5    65\n",
            "6     0\n",
            "7     1\n",
            "8     5\n",
            "dtype: int64\n",
            "First Index of Smallest Value:  6\n",
            "First Index of Maximum Value:  5\n"
          ]
        }
      ]
    },
    {
      "cell_type": "markdown",
      "source": [
        "**Task2**\n",
        "\n",
        "Write a Pandas program to compute the Euclidean distance between two given series.\n",
        "Euclidean distance\n",
        "From Wikipedia, In mathematics, the Euclidean distance or Euclidean metric is the\n",
        "\"ordinary\" straight-line distance between two points in Euclidean space. With this distance,\n",
        "Euclidean space becomes a metric space.\n",
        "\n",
        "Series-1: [1, 2, 3, 4, 5, 6, 7, 8, 9, 10]\n",
        "\n",
        "Series-2: [11, 8, 7, 5, 6, 5, 3, 4, 7, 1]"
      ],
      "metadata": {
        "id": "UEn9Tj74rzW2"
      }
    },
    {
      "cell_type": "code",
      "source": [
        "import pandas as pd\n",
        "import numpy as np\n",
        "\n",
        "# Define the two series\n",
        "series1 = pd.Series([1, 2, 3, 4, 5, 6, 7, 8, 9, 10])\n",
        "series2 = pd.Series([11, 8, 7, 5, 6, 5, 3, 4, 7, 1])\n",
        "\n",
        "# Compute the Euclidean distance using NumPy\n",
        "euclidean_distance = np.linalg.norm(series1 - series2)\n",
        "\n",
        "print(\"Euclidean distance between the two series:\", euclidean_distance)\n"
      ],
      "metadata": {
        "colab": {
          "base_uri": "https://localhost:8080/"
        },
        "id": "KLoRmgD0sFlW",
        "outputId": "929bfeff-a644-44a6-bf07-673a591896ac"
      },
      "execution_count": null,
      "outputs": [
        {
          "output_type": "stream",
          "name": "stdout",
          "text": [
            "Euclidean distance between the two series: 16.492422502470642\n"
          ]
        }
      ]
    }
  ]
}