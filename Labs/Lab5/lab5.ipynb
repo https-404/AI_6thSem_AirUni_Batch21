{
  "cells": [
    {
      "cell_type": "code",
      "execution_count": null,
      "metadata": {
        "id": "O1ZNfpEDdF0q"
      },
      "outputs": [
        {
          "ename": "",
          "evalue": "",
          "output_type": "error",
          "traceback": [
            "\u001b[1;31mThe kernel failed to start as the Python Environment 'c:\\Python312\\python.exe' is no longer available. Consider selecting another kernel or refreshing the list of Python Environments."
          ]
        }
      ],
      "source": [
        "import random\n",
        "class Environment(object):\n",
        "  def __init__(self):\n",
        "  #instantiate location 0 and 1\n",
        "    self.condition={'A':'1','B':'1','C':'1','D':'1'}\n",
        "    self.condition['A']=str(random.choice([0,1]))\n",
        "    self.condition['B']=str(random.choice([0,1]))\n",
        "    self.condition['C']=str(random.choice([0,1]))\n",
        "    self.condition['D']=str(random.choice([0,1]))\n",
        "\n",
        "env=Environment()\n"
      ]
    },
    {
      "cell_type": "code",
      "execution_count": null,
      "metadata": {
        "id": "gDvrwgNke0Lf"
      },
      "outputs": [
        {
          "ename": "",
          "evalue": "",
          "output_type": "error",
          "traceback": [
            "\u001b[1;31mThe kernel failed to start as the Python Environment 'c:\\Python312\\python.exe' is no longer available. Consider selecting another kernel or refreshing the list of Python Environments."
          ]
        }
      ],
      "source": [
        "\n",
        "\n",
        "class SRAg(Environment):\n",
        "  def __init__(self):\n",
        "    self.env=Environment()\n",
        "    print(self.env.condition)\n",
        "\n",
        "    #place vaccuum at a random location\n",
        "    vaccuumlocation=random.randint(0,3)\n",
        "    while self.env.condition['A'] == '1' or self.env.condition['B'] == '1' or self.env.condition['C'] == '1' or self.env.condition['D'] =='1':\n",
        "      #if vaccuum is location A\n",
        "      if vaccuumlocation == 0:\n",
        "        print(\"vaccuum is randomly placed at A\")\n",
        "      #if the location a is dirty\n",
        "        if self.env.condition['A']=='1':\n",
        "          print('Location A is dirty')\n",
        "        #suck the dirt in vaccuum and mark it clean\n",
        "          self.env.condition['A']='0'\n",
        "          print('Location A is clean')\n",
        "          print('move to Location B ')\n",
        "          vaccuumlocation =1\n",
        "\n",
        "      #if vaccuum is location B\n",
        "        else:\n",
        "          if self.env.condition['A']=='0':\n",
        "            print('Location A is clean')\n",
        "            #moving to location B\n",
        "            print('move to Location B ')\n",
        "            vaccuumlocation =1\n",
        "\n",
        "      elif vaccuumlocation == 1:\n",
        "        print(\"vaccuum is randomly placed at B\")\n",
        "      #if the location a is dirty\n",
        "        if self.env.condition['B']=='1':\n",
        "          print('Location B is dirty')\n",
        "        #suck the dirt in vaccuum and mark it clean\n",
        "          self.env.condition['B']='0'\n",
        "          print('Location B is clean')\n",
        "          print('move to location C')\n",
        "          vaccuumlocation =2\n",
        "\n",
        "        else:\n",
        "          if self.env.condition['B']=='0':\n",
        "           print('Location B is clean')\n",
        "           print('move to location C')\n",
        "           vaccuumlocation =2\n",
        "\n",
        "      elif vaccuumlocation == 2:\n",
        "        print(\"vaccuum is randomly placed at C\")\n",
        "        #if the location a is dirty\n",
        "        if self.env.condition['C']=='1':\n",
        "         print('Location C is dirty')\n",
        "          #suck the dirt in vaccuum and mark it clean\n",
        "         self.env.condition['C']='0'\n",
        "         print('Location C is clean')\n",
        "         print('move to location D')\n",
        "         vaccuumlocation =3\n",
        "\n",
        "        else:\n",
        "         if self.env.condition['C']=='0':\n",
        "          print('Location C is clean')\n",
        "          print('move to location D')\n",
        "          vaccuumlocation =3\n",
        "\n",
        "      else:\n",
        "        print(\"vaccuum is randomly placed at D\")\n",
        "        #if the location a is dirty\n",
        "        if self.env.condition['D']=='1':\n",
        "          print('Location D is dirty')\n",
        "        #suck the dirt in vaccuum and mark it clean\n",
        "          self.env.condition['D']='0'\n",
        "          print('Location D is clean')\n",
        "          print('move to location A')\n",
        "          vaccuumlocation =0\n",
        "        else:\n",
        "          if self.env.condition['D']=='0':\n",
        "            print('Location D is clean')\n",
        "            print('move to location A')\n",
        "            vaccuumlocation =0\n",
        "    print('All locations are clean')\n",
        "sra=SRAg()\n",
        "\n",
        "\n",
        "\n"
      ]
    },
    {
      "cell_type": "code",
      "execution_count": null,
      "metadata": {
        "id": "90ZPhxOt8fhT"
      },
      "outputs": [
        {
          "ename": "",
          "evalue": "",
          "output_type": "error",
          "traceback": [
            "\u001b[1;31mThe kernel failed to start as the Python Environment 'c:\\Python312\\python.exe' is no longer available. Consider selecting another kernel or refreshing the list of Python Environments."
          ]
        }
      ],
      "source": [
        "import random\n",
        "\n",
        "class Environment(object):\n",
        "    def __init__(self):\n",
        "        # Instantiate location 0 and 1\n",
        "        self.condition = {'A': '1', 'B': '1', 'C': '1', 'D': '1'}\n",
        "        self.condition['A'] = str(random.choice([0, 1]))  # Set the condition of location A randomly to 0 or 1\n",
        "        self.condition['B'] = str(random.choice([0, 1]))  # Set the condition of location B randomly to 0 or 1\n",
        "        self.condition['C'] = str(random.choice([0, 1]))  # Set the condition of location C randomly to 0 or 1\n",
        "        self.condition['D'] = str(random.choice([0, 1]))  # Set the condition of location D randomly to 0 or 1\n",
        "\n",
        "class SRAg(Environment):\n",
        "    def __init__(self):\n",
        "        super().__init__()  # Instantiate the object of the parent class\n",
        "        self.env = Environment()\n",
        "        print(self.env.condition)\n",
        "\n",
        "        # Place vacuum at a random location\n",
        "        vacuum_location = random.randint(0, 3)\n",
        "\n",
        "        while any(value == '1' for value in self.env.condition.values()):\n",
        "            self.clean_location(vacuum_location)  # Clean the current location\n",
        "            vacuum_location = self.move_to_next_location(vacuum_location)  # Move to the next location\n",
        "\n",
        "        print('All locations are clean')\n",
        "\n",
        "    def clean_location(self, location):\n",
        "        location_name = ['A', 'B', 'C', 'D'][location]\n",
        "        print(f\"Vacuum is randomly placed at {location_name}\")\n",
        "\n",
        "        if self.env.condition[location_name] == '1':\n",
        "            print(f\"Location {location_name} is dirty\")\n",
        "            self.env.condition[location_name] = '0'\n",
        "            print(f\"Location {location_name} is clean\")\n",
        "        else:\n",
        "            print(f\"Location {location_name} is clean\")\n",
        "    #move to next location and check if it is clean\n",
        "    def move_to_next_location(self, current_location):\n",
        "        next_location = (current_location + 1) % 4\n",
        "        print(f\"Move to Location {['A', 'B', 'C', 'D'][next_location]}\")\n",
        "        return next_location\n",
        "\n"
      ]
    },
    {
      "cell_type": "code",
      "execution_count": null,
      "metadata": {
        "id": "-OAtvs2j9hM6"
      },
      "outputs": [
        {
          "ename": "",
          "evalue": "",
          "output_type": "error",
          "traceback": [
            "\u001b[1;31mThe kernel failed to start as the Python Environment 'c:\\Python312\\python.exe' is no longer available. Consider selecting another kernel or refreshing the list of Python Environments."
          ]
        }
      ],
      "source": [
        "import random\n",
        "\n",
        "class Environment(object):\n",
        "    def __init__(self):\n",
        "        # Instantiate location 0 and 1\n",
        "        self.condition = {'A': '1', 'B': '1', 'C': '1', 'D': '1'}\n",
        "        self.condition['A'] = str(random.choice([0, 1]))  # Set the condition of location A randomly to 0 or 1\n",
        "        self.condition['B'] = str(random.choice([0, 1]))  # Set the condition of location B randomly to 0 or 1\n",
        "        self.condition['C'] = str(random.choice([0, 1]))  # Set the condition of location C randomly to 0 or 1\n",
        "        self.condition['D'] = str(random.choice([0, 1]))  # Set the condition of location D randomly to 0 or 1\n",
        "\n",
        "class SRAg(Environment):\n",
        "    def __init__(self):\n",
        "        super().__init__()  # Instantiate the object of the parent class\n",
        "        self.env = Environment()\n",
        "        print(self.env.condition)\n",
        "\n",
        "        # Place vacuum at a random location\n",
        "        vacuum_location = random.randint(0, 3)\n",
        "\n",
        "        while any(value == '1' for value in self.env.condition.values()):\n",
        "            self.clean_location(vacuum_location)  # Clean the current location\n",
        "            vacuum_location = self.move_to_next_location(vacuum_location)  # Move to the next location\n",
        "\n",
        "        print('All locations are clean')\n",
        "\n",
        "    def clean_location(self, location):\n",
        "        location_name = ['A', 'B', 'C', 'D'][location]\n",
        "        print(f\"Vacuum is randomly placed at {location_name}\")\n",
        "\n",
        "        if self.env.condition[location_name] == '1':\n",
        "            print(f\"Location {location_name} is dirty\")\n",
        "            self.env.condition[location_name] = '0'\n",
        "            print(f\"Location {location_name} is clean\")\n",
        "        else:\n",
        "            print(f\"Location {location_name} is clean\")\n",
        "    #move to next location and check if it is clean\n",
        "    def move_to_next_location(self, current_location):\n",
        "        next_location = (current_location + 1) % 4\n",
        "        print(f\"Move to Location {['A', 'B', 'C', 'D'][next_location]}\")\n",
        "        return next_location\n"
      ]
    }
  ],
  "metadata": {
    "colab": {
      "provenance": []
    },
    "kernelspec": {
      "display_name": "Python 3",
      "name": "python3"
    },
    "language_info": {
      "name": "python",
      "version": "3.12.1"
    }
  },
  "nbformat": 4,
  "nbformat_minor": 0
}
