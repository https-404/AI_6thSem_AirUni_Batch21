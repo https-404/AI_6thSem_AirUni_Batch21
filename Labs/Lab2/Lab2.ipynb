{
  "cells": [
    {
      "cell_type": "markdown",
      "metadata": {
        "id": "2ivwKBmtqX3t"
      },
      "source": [
        "**BASIC PYTHON SYNTAX EXAMPLES**"
      ]
    },
    {
      "cell_type": "markdown",
      "metadata": {
        "id": "YcJb93GaoEX_"
      },
      "source": [
        "**Comments in Python**"
      ]
    },
    {
      "cell_type": "code",
      "execution_count": null,
      "metadata": {
        "id": "trLKf_mfnuDJ"
      },
      "outputs": [
        {
          "ename": "",
          "evalue": "",
          "output_type": "error",
          "traceback": [
            "\u001b[1;31mRunning cells with 'c:\\Python312\\python.exe' requires the ipykernel package.\n",
            "\u001b[1;31mRun the following command to install 'ipykernel' into the Python environment. \n",
            "\u001b[1;31mCommand: 'c:/Python312/python.exe -m pip install ipykernel -U --user --force-reinstall'"
          ]
        }
      ],
      "source": [
        "# i am a comment, it will not see me during exec"
      ]
    },
    {
      "cell_type": "markdown",
      "metadata": {
        "id": "aAIX57h-oQQ9"
      },
      "source": [
        "**Variables**"
      ]
    },
    {
      "cell_type": "code",
      "execution_count": null,
      "metadata": {
        "colab": {
          "base_uri": "https://localhost:8080/"
        },
        "id": "5cCQ_UpIohXK",
        "outputId": "06126671-f007-42b2-9b19-c1452fb90406"
      },
      "outputs": [
        {
          "ename": "",
          "evalue": "",
          "output_type": "error",
          "traceback": [
            "\u001b[1;31mRunning cells with 'c:\\Python312\\python.exe' requires the ipykernel package.\n",
            "\u001b[1;31mRun the following command to install 'ipykernel' into the Python environment. \n",
            "\u001b[1;31mCommand: 'c:/Python312/python.exe -m pip install ipykernel -U --user --force-reinstall'"
          ]
        }
      ],
      "source": [
        "print (\"This program is a demo of variables\")\n",
        "v = 1\n",
        "print (\"The value of v is now\", v)\n",
        "v = v + 1\n",
        "print (\"v now equals itself plus one, making it worth\", v)\n",
        "print (\"To make v five times bigger, you would have to type v = v * 5\")\n",
        "v = v * 5\n",
        "print (\"There you go, now v equals\", v,\" and not\", v / 5 )"
      ]
    },
    {
      "cell_type": "markdown",
      "metadata": {
        "id": "vDfE0LjkpAoX"
      },
      "source": [
        "**Strings**"
      ]
    },
    {
      "cell_type": "code",
      "execution_count": null,
      "metadata": {
        "colab": {
          "base_uri": "https://localhost:8080/"
        },
        "id": "JCelHdTypD1z",
        "outputId": "fea5db64-93b3-49f1-8a11-3320f4ce7225"
      },
      "outputs": [
        {
          "ename": "",
          "evalue": "",
          "output_type": "error",
          "traceback": [
            "\u001b[1;31mRunning cells with 'c:\\Python312\\python.exe' requires the ipykernel package.\n",
            "\u001b[1;31mRun the following command to install 'ipykernel' into the Python environment. \n",
            "\u001b[1;31mCommand: 'c:/Python312/python.exe -m pip install ipykernel -U --user --force-reinstall'"
          ]
        }
      ],
      "source": [
        "word1 = \"Good\"\n",
        "word2 = \"Morning\"\n",
        "word3= \"to you too!\"\n",
        "print(word1, word2)\n",
        "sentence = word1 + \" \" + word2 + \" \" + word3\n",
        "print(sentence)"
      ]
    },
    {
      "cell_type": "markdown",
      "metadata": {
        "id": "y_hsRL-BpcXQ"
      },
      "source": [
        "**Conditional Statements**\n",
        "\n",
        "\n",
        "1.   **if**\n",
        "2.   **else**\n",
        "3.   **elif**\n",
        "\n"
      ]
    },
    {
      "cell_type": "code",
      "execution_count": null,
      "metadata": {
        "colab": {
          "base_uri": "https://localhost:8080/"
        },
        "id": "8cPE2s-Hp_sl",
        "outputId": "a5b7dee0-6824-4fc7-d390-471be1fac148"
      },
      "outputs": [
        {
          "ename": "",
          "evalue": "",
          "output_type": "error",
          "traceback": [
            "\u001b[1;31mRunning cells with 'c:\\Python312\\python.exe' requires the ipykernel package.\n",
            "\u001b[1;31mRun the following command to install 'ipykernel' into the Python environment. \n",
            "\u001b[1;31mCommand: 'c:/Python312/python.exe -m pip install ipykernel -U --user --force-reinstall'"
          ]
        }
      ],
      "source": [
        "#if' - Statement\n",
        "y = 1\n",
        "if y == 1:\n",
        "    print (\"y still equals 1, I was just checking\")\n",
        "#if - else' - Statement\n",
        "a = 1\n",
        "if a > 5:\n",
        "    print (\"This shouldn't happen.\")\n",
        "else:\n",
        "    print (\"This should happen.\")\n",
        "#elif' - Statement\n",
        "z = 4\n",
        "if z > 70:\n",
        "    print (\"Something is very wrong\")\n",
        "elif z < 7:\n",
        "    print (\"This is normal\")\n"
      ]
    },
    {
      "cell_type": "markdown",
      "metadata": {
        "id": "n5QSh-iAqfza"
      },
      "source": [
        "**INPUT FROM USER**"
      ]
    },
    {
      "cell_type": "code",
      "execution_count": null,
      "metadata": {
        "colab": {
          "base_uri": "https://localhost:8080/"
        },
        "id": "u6xXfGGPqkJx",
        "outputId": "4fa1f022-594d-4e8b-f5aa-169e2036cff6"
      },
      "outputs": [
        {
          "ename": "",
          "evalue": "",
          "output_type": "error",
          "traceback": [
            "\u001b[1;31mRunning cells with 'c:\\Python312\\python.exe' requires the ipykernel package.\n",
            "\u001b[1;31mRun the following command to install 'ipykernel' into the Python environment. \n",
            "\u001b[1;31mCommand: 'c:/Python312/python.exe -m pip install ipykernel -U --user --force-reinstall'"
          ]
        }
      ],
      "source": [
        "a = input (\"Enter Value for variable a:  \")\n",
        "print (a)\n"
      ]
    },
    {
      "cell_type": "markdown",
      "metadata": {
        "id": "MHU6CM80qrzT"
      },
      "source": [
        "**Indexes of String**"
      ]
    },
    {
      "cell_type": "code",
      "execution_count": null,
      "metadata": {
        "colab": {
          "base_uri": "https://localhost:8080/"
        },
        "id": "NdKbRKabq2y4",
        "outputId": "a8ab9631-755b-4ec8-ee0f-4f3e14c13cca"
      },
      "outputs": [
        {
          "ename": "",
          "evalue": "",
          "output_type": "error",
          "traceback": [
            "\u001b[1;31mRunning cells with 'c:\\Python312\\python.exe' requires the ipykernel package.\n",
            "\u001b[1;31mRun the following command to install 'ipykernel' into the Python environment. \n",
            "\u001b[1;31mCommand: 'c:/Python312/python.exe -m pip install ipykernel -U --user --force-reinstall'"
          ]
        }
      ],
      "source": [
        "name  = \"J. Smith\"\n",
        "print (name, \" starts with\", name[0])"
      ]
    },
    {
      "cell_type": "markdown",
      "metadata": {
        "id": "lPcHIRIfrCfA"
      },
      "source": [
        "**String Input**\n"
      ]
    },
    {
      "cell_type": "code",
      "execution_count": null,
      "metadata": {
        "colab": {
          "base_uri": "https://localhost:8080/"
        },
        "id": "DybeYfbnrHX-",
        "outputId": "55b410b8-1911-47de-d1d0-efd504063a84"
      },
      "outputs": [
        {
          "ename": "",
          "evalue": "",
          "output_type": "error",
          "traceback": [
            "\u001b[1;31mRunning cells with 'c:\\Python312\\python.exe' requires the ipykernel package.\n",
            "\u001b[1;31mRun the following command to install 'ipykernel' into the Python environment. \n",
            "\u001b[1;31mCommand: 'c:/Python312/python.exe -m pip install ipykernel -U --user --force-reinstall'"
          ]
        }
      ],
      "source": [
        "name = input(\"What's your name? \")\n",
        "print (name, \"... what a nice name!\")\n"
      ]
    },
    {
      "cell_type": "markdown",
      "metadata": {
        "id": "kquSrtUjrNj_"
      },
      "source": [
        "**String Properties**"
      ]
    },
    {
      "cell_type": "code",
      "execution_count": null,
      "metadata": {
        "colab": {
          "base_uri": "https://localhost:8080/"
        },
        "id": "HgPxKzN7rQMO",
        "outputId": "fe30e1e0-ae68-41e5-c120-b3306b54703e"
      },
      "outputs": [
        {
          "ename": "",
          "evalue": "",
          "output_type": "error",
          "traceback": [
            "\u001b[1;31mRunning cells with 'c:\\Python312\\python.exe' requires the ipykernel package.\n",
            "\u001b[1;31mRun the following command to install 'ipykernel' into the Python environment. \n",
            "\u001b[1;31mCommand: 'c:/Python312/python.exe -m pip install ipykernel -U --user --force-reinstall'"
          ]
        }
      ],
      "source": [
        "name = \"Linkin Park\"\n",
        "length = len(name)\n",
        "big_name = str.upper(name)\n",
        "print (big_name, \"has\", length, \"characters\")\n"
      ]
    },
    {
      "cell_type": "markdown",
      "metadata": {
        "id": "X6DkLPLKrVhP"
      },
      "source": [
        "**String and Numbers**"
      ]
    },
    {
      "cell_type": "code",
      "execution_count": null,
      "metadata": {
        "colab": {
          "base_uri": "https://localhost:8080/"
        },
        "id": "o8w6u7zprX3-",
        "outputId": "70153e2f-a306-4634-a291-c4cea70f2435"
      },
      "outputs": [
        {
          "ename": "",
          "evalue": "",
          "output_type": "error",
          "traceback": [
            "\u001b[1;31mRunning cells with 'c:\\Python312\\python.exe' requires the ipykernel package.\n",
            "\u001b[1;31mRun the following command to install 'ipykernel' into the Python environment. \n",
            "\u001b[1;31mCommand: 'c:/Python312/python.exe -m pip install ipykernel -U --user --force-reinstall'"
          ]
        }
      ],
      "source": [
        "print(ord('b') , \" is ASCII of of b\")\n",
        "print(chr(99) + \" is charachter representation of 99\")"
      ]
    },
    {
      "cell_type": "markdown",
      "metadata": {
        "id": "DosdcljLsdHq"
      },
      "source": [
        "**Loops in Python**"
      ]
    },
    {
      "cell_type": "code",
      "execution_count": null,
      "metadata": {
        "colab": {
          "base_uri": "https://localhost:8080/"
        },
        "id": "b39QaxEqsg9p",
        "outputId": "eba6241e-b24a-4d12-ca6e-bd9f9c04e304"
      },
      "outputs": [
        {
          "ename": "",
          "evalue": "",
          "output_type": "error",
          "traceback": [
            "\u001b[1;31mRunning cells with 'c:\\Python312\\python.exe' requires the ipykernel package.\n",
            "\u001b[1;31mRun the following command to install 'ipykernel' into the Python environment. \n",
            "\u001b[1;31mCommand: 'c:/Python312/python.exe -m pip install ipykernel -U --user --force-reinstall'"
          ]
        }
      ],
      "source": [
        "#The 'while' loop\n",
        "print(\"The While Loop\")\n",
        "a = 0\n",
        "while a < 10:\n",
        "    a = a + 1\n",
        "    print (a )\n",
        "#The 'for' loop\n",
        "print(\"The For LOOP\")\n",
        "for i in range(1, 5):\n",
        "\tprint (i )\n",
        "#for in range\n",
        "print(\"For in Range Loop\")\n",
        "for i in range(1, 5):\n",
        "  print (i)\n",
        "else:\n",
        "  print ('The for loop is over')\n"
      ]
    },
    {
      "cell_type": "markdown",
      "metadata": {
        "id": "i4PfaUJVtEhe"
      },
      "source": [
        "**FUNCTIONS**"
      ]
    },
    {
      "cell_type": "code",
      "execution_count": null,
      "metadata": {
        "colab": {
          "base_uri": "https://localhost:8080/"
        },
        "id": "Bv160RYjtRW4",
        "outputId": "5aab8e49-e908-4d06-84b2-5a3f852f3dde"
      },
      "outputs": [
        {
          "ename": "",
          "evalue": "",
          "output_type": "error",
          "traceback": [
            "\u001b[1;31mRunning cells with 'c:\\Python312\\python.exe' requires the ipykernel package.\n",
            "\u001b[1;31mRun the following command to install 'ipykernel' into the Python environment. \n",
            "\u001b[1;31mCommand: 'c:/Python312/python.exe -m pip install ipykernel -U --user --force-reinstall'"
          ]
        }
      ],
      "source": [
        "def multiplybytwo(x):\n",
        "\treturn x*2\n",
        "a = multiplybytwo(70)\n",
        "print(a)\n"
      ]
    },
    {
      "cell_type": "markdown",
      "metadata": {
        "id": "WuNlplEBnwSI"
      },
      "source": [
        "------------------------------------------------------\n",
        "**Libraries Introduction from here**"
      ]
    },
    {
      "cell_type": "code",
      "execution_count": null,
      "metadata": {
        "id": "pwNDfEQPQbLN"
      },
      "outputs": [
        {
          "ename": "",
          "evalue": "",
          "output_type": "error",
          "traceback": [
            "\u001b[1;31mRunning cells with 'c:\\Python312\\python.exe' requires the ipykernel package.\n",
            "\u001b[1;31mRun the following command to install 'ipykernel' into the Python environment. \n",
            "\u001b[1;31mCommand: 'c:/Python312/python.exe -m pip install ipykernel -U --user --force-reinstall'"
          ]
        }
      ],
      "source": [
        "!pip install matplotlib\n",
        "!pip install numpy\n"
      ]
    },
    {
      "cell_type": "code",
      "execution_count": null,
      "metadata": {
        "colab": {
          "base_uri": "https://localhost:8080/",
          "height": 430
        },
        "id": "sA4l4pPOTlzW",
        "outputId": "be9bbdef-b505-4743-eefc-445630b4aa5f"
      },
      "outputs": [
        {
          "ename": "",
          "evalue": "",
          "output_type": "error",
          "traceback": [
            "\u001b[1;31mRunning cells with 'c:\\Python312\\python.exe' requires the ipykernel package.\n",
            "\u001b[1;31mRun the following command to install 'ipykernel' into the Python environment. \n",
            "\u001b[1;31mCommand: 'c:/Python312/python.exe -m pip install ipykernel -U --user --force-reinstall'"
          ]
        }
      ],
      "source": [
        "import matplotlib.pyplot as plt\n",
        "import numpy as np\n",
        "xpoints = np.array([0, 6])\n",
        "ypoints = np.array([0, 250])\n",
        "plt.plot(xpoints, ypoints)\n",
        "plt.show()"
      ]
    },
    {
      "cell_type": "markdown",
      "metadata": {
        "id": "2gEvlRdXjMT6"
      },
      "source": [
        "**Matplotlib: Visualization with Python**\n",
        "\n",
        "Matplotlib is a comprehensive library for creating static, animated, and interactive visualizations in Python. Matplotlib makes easy things easy and hard things possible.\n",
        "\n",
        "* Create publication quality plots.\n",
        "* Make interactive figures that can zoom, pan, update.\n",
        "* Customize visual style and layout.\n",
        "* Export to many file formats.\n",
        "* Embed in JupyterLab and Graphical User Interfaces.\n",
        "* Use a rich array of third-party packages built on\n",
        " Matplotlib."
      ]
    },
    {
      "cell_type": "code",
      "execution_count": null,
      "metadata": {
        "id": "DnpvhqoaUR5e"
      },
      "outputs": [
        {
          "ename": "",
          "evalue": "",
          "output_type": "error",
          "traceback": [
            "\u001b[1;31mRunning cells with 'c:\\Python312\\python.exe' requires the ipykernel package.\n",
            "\u001b[1;31mRun the following command to install 'ipykernel' into the Python environment. \n",
            "\u001b[1;31mCommand: 'c:/Python312/python.exe -m pip install ipykernel -U --user --force-reinstall'"
          ]
        }
      ],
      "source": [
        "!pip install pandas"
      ]
    },
    {
      "cell_type": "code",
      "execution_count": null,
      "metadata": {
        "colab": {
          "base_uri": "https://localhost:8080/"
        },
        "id": "iA8PHWtuUsoO",
        "outputId": "60de4f03-94ff-4086-e5be-816bf61adee1"
      },
      "outputs": [
        {
          "ename": "",
          "evalue": "",
          "output_type": "error",
          "traceback": [
            "\u001b[1;31mRunning cells with 'c:\\Python312\\python.exe' requires the ipykernel package.\n",
            "\u001b[1;31mRun the following command to install 'ipykernel' into the Python environment. \n",
            "\u001b[1;31mCommand: 'c:/Python312/python.exe -m pip install ipykernel -U --user --force-reinstall'"
          ]
        }
      ],
      "source": [
        "import pandas as pd\n",
        "\n",
        "calories = {\n",
        "    \"day1\" : 420,\n",
        "    \"day2\" : 320,\n",
        "    \"day3\" : 310\n",
        "}\n",
        "myvar = pd.Series(calories)\n",
        "print(myvar)"
      ]
    },
    {
      "cell_type": "markdown",
      "metadata": {
        "id": "0S5jlzNgi31b"
      },
      "source": [
        "**PANDAS**\n",
        "\n",
        "Used for:\n",
        "\n",
        "pandas is a fast, powerful, flexible and easy to use open source data analysis and manipulation tool,\n",
        "built on top of the Python programming language."
      ]
    },
    {
      "cell_type": "code",
      "execution_count": null,
      "metadata": {
        "colab": {
          "base_uri": "https://localhost:8080/"
        },
        "id": "kz_qLvqJVReF",
        "outputId": "3a24575e-1976-4f6e-f17d-c3107a81b022"
      },
      "outputs": [
        {
          "ename": "",
          "evalue": "",
          "output_type": "error",
          "traceback": [
            "\u001b[1;31mRunning cells with 'c:\\Python312\\python.exe' requires the ipykernel package.\n",
            "\u001b[1;31mRun the following command to install 'ipykernel' into the Python environment. \n",
            "\u001b[1;31mCommand: 'c:/Python312/python.exe -m pip install ipykernel -U --user --force-reinstall'"
          ]
        }
      ],
      "source": [
        "import numpy\n",
        "arr = numpy.array([1, 2, 3, 4, 'Hello', \"World\", ])\n",
        "print(arr)"
      ]
    },
    {
      "cell_type": "markdown",
      "metadata": {
        "id": "UB7MhjzmihN8"
      },
      "source": [
        "***NUMPY***\n",
        "\n",
        "\n",
        "NumPy is a library for the Python programming language, adding support for large, multi-dimensional arrays and matrices, along with a large collection of high-level mathematical functions to operate on these arrays."
      ]
    },
    {
      "cell_type": "code",
      "execution_count": null,
      "metadata": {
        "id": "f01Ve8F-aSHp"
      },
      "outputs": [
        {
          "ename": "",
          "evalue": "",
          "output_type": "error",
          "traceback": [
            "\u001b[1;31mRunning cells with 'c:\\Python312\\python.exe' requires the ipykernel package.\n",
            "\u001b[1;31mRun the following command to install 'ipykernel' into the Python environment. \n",
            "\u001b[1;31mCommand: 'c:/Python312/python.exe -m pip install ipykernel -U --user --force-reinstall'"
          ]
        }
      ],
      "source": [
        "!pip install scikit_learn"
      ]
    },
    {
      "cell_type": "markdown",
      "metadata": {
        "id": "8DtK61SWagln"
      },
      "source": [
        "**SCIKIT LEARN**\n",
        "\n",
        "\n",
        "*   Classification\n",
        "*   Regression\n",
        "*   Clustering\n",
        "\n",
        "\n"
      ]
    }
  ],
  "metadata": {
    "colab": {
      "provenance": []
    },
    "kernelspec": {
      "display_name": "Python 3",
      "name": "python3"
    },
    "language_info": {
      "name": "python",
      "version": "3.12.1"
    }
  },
  "nbformat": 4,
  "nbformat_minor": 0
}
