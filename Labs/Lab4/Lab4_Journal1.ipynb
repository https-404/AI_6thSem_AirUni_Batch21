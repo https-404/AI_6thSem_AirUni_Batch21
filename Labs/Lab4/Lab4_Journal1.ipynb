{
  "nbformat": 4,
  "nbformat_minor": 0,
  "metadata": {
    "colab": {
      "provenance": [],
      "gpuType": "T4"
    },
    "kernelspec": {
      "name": "python3",
      "display_name": "Python 3"
    },
    "language_info": {
      "name": "python"
    },
    "accelerator": "GPU"
  },
  "cells": [
    {
      "cell_type": "markdown",
      "source": [
        "# **AI Lab 4 Journal 1**\n",
        "Name: Areesh Ali\n",
        "\n",
        "Reg ID: 210894\n",
        "\n",
        "F21-BSCS-IV-B"
      ],
      "metadata": {
        "id": "0bu76Fbuar59"
      }
    },
    {
      "cell_type": "markdown",
      "source": [
        "**Task # 1:**\n",
        "\n",
        "Open the python environment and run the following program. Try different integer values for separate runs of the program. Play around with the indentation of the program lines of code and run it again. See what happens. Make a note of what changes you made and how it made the program behave. Also note any errors, as well as the changes you need to make to remove the errors.\n",
        "\n",
        "\n",
        "```\n",
        "x = input(\"Please enter an integer: \")\n",
        "if x < 0:\n",
        "\n",
        "    x = 0\n",
        "\n",
        "    print('Negative changed to zero')\n",
        "\n",
        "elif x == 0:\n",
        "\n",
        "    print('Zero')\n",
        "    \n",
        "elif x == 1:\n",
        "    print('Single')\n",
        "else:\n",
        "    print('More')\n",
        "```\n",
        "\n",
        "\n"
      ],
      "metadata": {
        "id": "wlg_FZP0bch5"
      }
    },
    {
      "cell_type": "code",
      "source": [
        "x = int(input(\"Please enter an integer: \"))\n",
        "if x < 0:\n",
        "    x = 0\n",
        "    print('Negative changed to zero')\n",
        "elif x == 0:\n",
        "    print('Zero')\n",
        "elif x == 1:\n",
        "    print('Single')\n",
        "else:\n",
        "    print('More')\n"
      ],
      "metadata": {
        "colab": {
          "base_uri": "https://localhost:8080/"
        },
        "id": "7hPNu4fSbBV6",
        "outputId": "d9ab067f-cc0f-4174-eed9-ee15880799b3"
      },
      "execution_count": null,
      "outputs": [
        {
          "output_type": "stream",
          "name": "stdout",
          "text": [
            "Please enter an integer: 3\n",
            "More\n"
          ]
        }
      ]
    },
    {
      "cell_type": "markdown",
      "source": [
        "**Task # 2:**\n",
        "1.\tWrite a simple calculator program. Follow the steps below:\n",
        "a.\tDeclare and define a function named Menu which displays a list of choices for user such as addition, subtraction, mutiplication. It takes the choice from user as an input and return.\n",
        "b.\tDefine and declare a separate function for each choice.\n",
        "c.\tIn the main body of the program call respective function depending on user’s choice.\n",
        "d.\tProgram should not terminate till user chooses option to “Quit”.\n"
      ],
      "metadata": {
        "id": "h0N7ttmrcxz6"
      }
    },
    {
      "cell_type": "code",
      "source": [
        "def sum(a,b):\n",
        "  return a +b\n",
        "def subtraction(a,b):\n",
        "  return a-b\n",
        "def product(a,b):\n",
        "  return a*b\n",
        "def division(a,b):\n",
        "  return a/b\n",
        "def choices():\n",
        "  print(\"Make a choice:\")\n",
        "  print(\"1.Sum of two numbers\")\n",
        "  print(\"2.Subtraction\")\n",
        "  print(\"3.Product\")\n",
        "  print(\"4. Division\")\n",
        "  choice = int(input(\"Enter your Choice: \"))\n",
        "  return choice\n",
        "\n",
        "\n",
        "a = int(input(\"Enter 1st Number: \"))\n",
        "b = int (input(\"Enter 2nd Number:\"))\n",
        "\n",
        "choice = choices()\n",
        "if choice == 1:\n",
        "  answer =sum(a,b)\n",
        "elif choice == 2:\n",
        "  answer = subtraction(a,b)\n",
        "elif choice == 3:\n",
        "  answer = product(a,b)\n",
        "elif choice == 4:\n",
        "  answer = division(a,b)\n",
        "else:\n",
        "  print(\"Invalid Choice\")\n",
        "print(\"Answer is \", answer)"
      ],
      "metadata": {
        "colab": {
          "base_uri": "https://localhost:8080/"
        },
        "id": "rBMOA-MFdAo5",
        "outputId": "c444aed1-4404-427f-925c-6d328d1534ec"
      },
      "execution_count": null,
      "outputs": [
        {
          "output_type": "stream",
          "name": "stdout",
          "text": [
            "Enter 1st Number: 23\n",
            "Enter 2nd Number:34\n",
            "Make a choice:\n",
            "1.Sum of two numbers\n",
            "2.Subtraction\n",
            "3.Product\n",
            "4. Division\n",
            "Enter your Choice1\n",
            "Answer is  57\n"
          ]
        }
      ]
    },
    {
      "cell_type": "markdown",
      "source": [
        "**Task # 3:**\n",
        "2.\tWrite a simple unit calculator program. Follow the steps below:\n",
        "a.\tDeclare and define a function named Menu which displays a list of choices for user such as meter to kilometer, kilometer to meter, centimeter to meter, & centimeter to millimeter. It takes the choice from user as an input and return.\n",
        "b.\tDefine and declare a separate function for each choice.\n",
        "c.\tIn the main body of the program call respective function depending on user’s choice.\n",
        "d.\tProgram should not terminate till user chooses option to “Quit”.\n"
      ],
      "metadata": {
        "id": "dgTA-ahIhq5t"
      }
    },
    {
      "cell_type": "code",
      "source": [
        "def menu():\n",
        "    print(\"Unit Calculator\")\n",
        "    print(\"1. Meter to Kilometer\")\n",
        "    print(\"2. Kilometer to Meter\")\n",
        "    print(\"3. Centimeter to Meter\")\n",
        "    print(\"4. Centimeter to Millimeter\")\n",
        "    print(\"5. Quit\")\n",
        "    choice = int(input(\"Enter your choice: \"))\n",
        "    return choice\n",
        "\n",
        "def meter_to_kilometer():\n",
        "    value = float(input(\"Enter value in meters: \"))\n",
        "    result = value * 0.001\n",
        "    print(f\"{value} meters is equal to {result} kilometers\")\n",
        "\n",
        "def kilometer_to_meter():\n",
        "    value = float(input(\"Enter value in kilometers: \"))\n",
        "    result = value * 1000\n",
        "    print(f\"{value} kilometers is equal to {result} meters\")\n",
        "\n",
        "def centimeter_to_meter():\n",
        "    value = float(input(\"Enter value in centimeters: \"))\n",
        "    result = value * 0.01\n",
        "    print(f\"{value} centimeters is equal to {result} meters\")\n",
        "\n",
        "def centimeter_to_millimeter():\n",
        "    value = float(input(\"Enter value in centimeters: \"))\n",
        "    result = value * 10\n",
        "    print(f\"{value} centimeters is equal to {result} millimeters\")\n",
        "\n",
        "choice = menu()\n",
        "if choice == 1:\n",
        "      meter_to_kilometer()\n",
        "elif choice == 2:\n",
        "            kilometer_to_meter()\n",
        "elif choice == 3:\n",
        "            centimeter_to_meter()\n",
        "elif choice == 4:\n",
        "            centimeter_to_millimeter()\n",
        "elif choice == 5:\n",
        "  print(\"Quitting...\")\n"
      ],
      "metadata": {
        "colab": {
          "base_uri": "https://localhost:8080/"
        },
        "id": "k52UYkaGhv9Z",
        "outputId": "31909fc0-2b00-49f2-bc45-521d09a2d0a5"
      },
      "execution_count": null,
      "outputs": [
        {
          "output_type": "stream",
          "name": "stdout",
          "text": [
            "Unit Calculator\n",
            "1. Meter to Kilometer\n",
            "2. Kilometer to Meter\n",
            "3. Centimeter to Meter\n",
            "4. Centimeter to Millimeter\n",
            "5. Quit\n",
            "Enter your choice: 1\n",
            "Enter value in meters: 1500\n",
            "1500.0 meters is equal to 1.5 kilometers\n"
          ]
        }
      ]
    },
    {
      "cell_type": "markdown",
      "source": [
        "**Task 4:**\n",
        "Write a program to calculate electricity bill (accept number of units from the user) according to following criteria\n",
        "\n",
        "\n",
        "```\n",
        "Unit\tPrice\n",
        "First 100 units\t No charge\n",
        "Next 100 units\t 5 Rs per unit\n",
        "After 200 units\t10 Rs per unit\n",
        "```\n",
        "\n",
        "\n",
        "\n",
        "For example if input unit is 350 total bill amount is  2000 Rs\n"
      ],
      "metadata": {
        "id": "PkgxfUOsmST2"
      }
    },
    {
      "cell_type": "code",
      "source": [
        "def calculate_bill(units):\n",
        "    if units <= 100:\n",
        "        return 0\n",
        "    elif units <= 200:\n",
        "        return (units - 100) * 5\n",
        "    else:\n",
        "        return (100 * 5) + (units - 200) * 10\n",
        "\n",
        "units = int(input(\"Enter number of units: \"))\n",
        "bill_amount = calculate_bill(units)\n",
        "print(f\"Total bill amount is: {bill_amount} Rs\")"
      ],
      "metadata": {
        "colab": {
          "base_uri": "https://localhost:8080/"
        },
        "id": "fn32OJIam87L",
        "outputId": "6eae912c-98e6-47ed-b816-226c9490d657"
      },
      "execution_count": null,
      "outputs": [
        {
          "output_type": "stream",
          "name": "stdout",
          "text": [
            "Enter number of units: 350\n",
            "Total bill amount is: 2000 Rs\n"
          ]
        }
      ]
    },
    {
      "cell_type": "code",
      "source": [
        "class Animal:\n",
        "    def __init__(self, name):\n",
        "        self.name = name\n",
        "\n",
        "    def make_sound(self):\n",
        "        pass\n",
        "\n",
        "class Dog(Animal):\n",
        "    def __init__(self, name, breed):\n",
        "        super().__init__(name)\n",
        "        self.breed = breed\n",
        "\n",
        "    def make_sound(self):\n",
        "        return \"Woof!\"\n",
        "\n",
        "class Cat(Animal):\n",
        "    def __init__(self, name, color):\n",
        "        super().__init__(name)\n",
        "        self.color = color\n",
        "\n",
        "    def make_sound(self):\n",
        "        return \"Meow!\"\n",
        "\n",
        "my_dog = Dog(\"Buddy\", \"Golden Retriever\")\n",
        "my_cat = Cat(\"Whiskers\", \"Gray\")\n",
        "\n",
        "print(my_dog.name)  # Prints: Buddy\n",
        "print(my_dog.breed)  # Prints: Golden Retriever\n",
        "print(my_dog.make_sound())  # Prints: Woof!\n",
        "\n",
        "print(my_cat.name)  # Prints: Whiskers\n",
        "print(my_cat.color)  # Prints: Gray\n",
        "print(my_cat.make_sound())  # Prints: Meow!"
      ],
      "metadata": {
        "colab": {
          "base_uri": "https://localhost:8080/"
        },
        "id": "1rw_fXtj3gk0",
        "outputId": "3b57cf19-af85-4dd3-c021-e9f372998d2c"
      },
      "execution_count": null,
      "outputs": [
        {
          "output_type": "stream",
          "name": "stdout",
          "text": [
            "Buddy\n",
            "Golden Retriever\n",
            "Woof!\n",
            "Whiskers\n",
            "Gray\n",
            "Meow!\n"
          ]
        }
      ]
    },
    {
      "cell_type": "code",
      "source": [
        "import math\n",
        "class BasicCalc:\n",
        "    def __init__(self):\n",
        "        self.result = 0\n",
        "\n",
        "    def add(self, x, y):\n",
        "        self.result = x + y\n",
        "        return self.result\n",
        "\n",
        "    def subtract(self, x, y):\n",
        "        self.result = x - y\n",
        "        return self.result\n",
        "\n",
        "    def multiply(self, x, y):\n",
        "        self.result = x * y\n",
        "        return self.result\n",
        "\n",
        "    def divide(self, x, y):\n",
        "        if y == 0:\n",
        "            raise ValueError(\"Division by zero is not allowed\")\n",
        "        self.result = x / y\n",
        "        return self.result\n",
        "class ScientificCalc(BasicCalc):\n",
        "    def __init__(self):\n",
        "        super().__init__()\n",
        "\n",
        "    def factorial(self, n):\n",
        "        if n < 0:\n",
        "            raise ValueError(\"Factorial of negative numbers is not defined\")\n",
        "        if n == 0 or n == 1:\n",
        "            return 1\n",
        "        return n * self.factorial(n - 1)\n",
        "\n",
        "    def x_power_y(self, x, y):\n",
        "        return x ** y\n",
        "\n",
        "    def log(self, x, base=None):\n",
        "        if base is None:\n",
        "            return math.log(x)\n",
        "        else:\n",
        "            return math.log(x, base)\n",
        "\n",
        "    def ln(self, x):\n",
        "        return math.log(x)\n",
        "\n",
        "if __name__ == \"__main__\":\n",
        "    sci_calc = ScientificCalc()\n",
        "    x = 5\n",
        "    y = 3\n",
        "\n",
        "    print(\"Addition:\", sci_calc.add(x, y))\n",
        "    print(\"Subtraction:\", sci_calc.subtract(x, y))\n",
        "    print(\"Multiplication:\", sci_calc.multiply(x, y))\n",
        "    print(\"Division:\", sci_calc.divide(x, y))\n",
        "    print(\"Factorial of 5:\", sci_calc.factorial(5))\n",
        "    print(\"5^3:\", sci_calc.x_power_y(5, 3))\n",
        "    print(\"log(5):\", sci_calc.log(5))\n",
        "    print(\"ln(5):\", sci_calc.ln(5))"
      ],
      "metadata": {
        "colab": {
          "base_uri": "https://localhost:8080/"
        },
        "id": "J-GiEiHK4UyC",
        "outputId": "80d9e8db-7b38-448a-d1f3-365bcc7e6884"
      },
      "execution_count": null,
      "outputs": [
        {
          "output_type": "stream",
          "name": "stdout",
          "text": [
            "Addition: 8\n",
            "Subtraction: 2\n",
            "Multiplication: 15\n",
            "Division: 1.6666666666666667\n",
            "Factorial of 5: 120\n",
            "5^3: 125\n",
            "log(5): 1.6094379124341003\n",
            "ln(5): 1.6094379124341003\n"
          ]
        }
      ]
    }
  ]
}